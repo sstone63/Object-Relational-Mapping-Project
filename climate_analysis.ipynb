{
 "cells": [
  {
   "cell_type": "code",
   "execution_count": 76,
   "metadata": {
    "collapsed": true
   },
   "outputs": [],
   "source": [
    "#import dependencies\n",
    "import pandas as pd\n",
    "from sqlalchemy.orm import Session\n",
    "from sqlalchemy import create_engine, func\n",
    "from sqlalchemy.ext.declarative import declarative_base\n",
    "from sqlalchemy.ext.automap import automap_base\n",
    "import matplotlib.pyplot as plt\n",
    "import datetime as dt\n",
    "import numpy as np\n",
    "import seaborn as sns\n",
    " \n"
   ]
  },
  {
   "cell_type": "code",
   "execution_count": 23,
   "metadata": {
    "collapsed": true
   },
   "outputs": [],
   "source": [
    "measurements_df = pd.read_csv(\"clean_hm_df.csv\")\n",
    "\n",
    "stations_df = pd.read_csv(\"clean_hs_df.csv\")"
   ]
  },
  {
   "cell_type": "code",
   "execution_count": 2,
   "metadata": {
    "collapsed": true
   },
   "outputs": [],
   "source": [
    "#connect to sqlite database\n",
    "engine = create_engine(\"sqlite:///hawaii.sqlite\")"
   ]
  },
  {
   "cell_type": "code",
   "execution_count": 3,
   "metadata": {},
   "outputs": [
    {
     "data": {
      "text/plain": [
       "['Measurements', 'Stations']"
      ]
     },
     "execution_count": 3,
     "metadata": {},
     "output_type": "execute_result"
    }
   ],
   "source": [
    "#reflect database into ORM classes\n",
    "Base = automap_base()\n",
    "\n",
    "Base.prepare(engine, reflect=True)\n",
    "\n",
    "Base.classes.keys()"
   ]
  },
  {
   "cell_type": "code",
   "execution_count": 4,
   "metadata": {
    "collapsed": true
   },
   "outputs": [],
   "source": [
    "#save references to each table\n",
    "\n",
    "Measurements = Base.classes.Measurements\n",
    "Stations = Base.classes.Stations"
   ]
  },
  {
   "cell_type": "code",
   "execution_count": 5,
   "metadata": {
    "collapsed": true
   },
   "outputs": [],
   "source": [
    "#create database session object\n",
    "\n",
    "session = Session(engine)"
   ]
  },
  {
   "cell_type": "code",
   "execution_count": 17,
   "metadata": {},
   "outputs": [],
   "source": [
    "#set vacation dates\n",
    "\n",
    "vac_start_date = \"2016-07-02\"\n",
    "\n",
    "vac_end_date = \"2016-07-10\""
   ]
  },
  {
   "cell_type": "code",
   "execution_count": 47,
   "metadata": {},
   "outputs": [
    {
     "data": {
      "text/html": [
       "<div>\n",
       "<style>\n",
       "    .dataframe thead tr:only-child th {\n",
       "        text-align: right;\n",
       "    }\n",
       "\n",
       "    .dataframe thead th {\n",
       "        text-align: left;\n",
       "    }\n",
       "\n",
       "    .dataframe tbody tr th {\n",
       "        vertical-align: top;\n",
       "    }\n",
       "</style>\n",
       "<table border=\"1\" class=\"dataframe\">\n",
       "  <thead>\n",
       "    <tr style=\"text-align: right;\">\n",
       "      <th></th>\n",
       "      <th>date</th>\n",
       "      <th>precipitation</th>\n",
       "    </tr>\n",
       "    <tr>\n",
       "      <th>date</th>\n",
       "      <th></th>\n",
       "      <th></th>\n",
       "    </tr>\n",
       "  </thead>\n",
       "  <tbody>\n",
       "    <tr>\n",
       "      <th>2016-08-23</th>\n",
       "      <td>2016-08-23</td>\n",
       "      <td>0.00</td>\n",
       "    </tr>\n",
       "    <tr>\n",
       "      <th>2016-08-24</th>\n",
       "      <td>2016-08-24</td>\n",
       "      <td>0.08</td>\n",
       "    </tr>\n",
       "    <tr>\n",
       "      <th>2016-08-25</th>\n",
       "      <td>2016-08-25</td>\n",
       "      <td>0.08</td>\n",
       "    </tr>\n",
       "    <tr>\n",
       "      <th>2016-08-26</th>\n",
       "      <td>2016-08-26</td>\n",
       "      <td>0.00</td>\n",
       "    </tr>\n",
       "    <tr>\n",
       "      <th>2016-08-27</th>\n",
       "      <td>2016-08-27</td>\n",
       "      <td>0.00</td>\n",
       "    </tr>\n",
       "  </tbody>\n",
       "</table>\n",
       "</div>"
      ],
      "text/plain": [
       "                  date  precipitation\n",
       "date                                 \n",
       "2016-08-23  2016-08-23           0.00\n",
       "2016-08-24  2016-08-24           0.08\n",
       "2016-08-25  2016-08-25           0.08\n",
       "2016-08-26  2016-08-26           0.00\n",
       "2016-08-27  2016-08-27           0.00"
      ]
     },
     "execution_count": 47,
     "metadata": {},
     "output_type": "execute_result"
    }
   ],
   "source": [
    "#precip for last full year of data\n",
    "\n",
    "end_date = measurements_df[\"date\"].max()\n",
    "\n",
    "start_date = dt.date(2017, 8, 23) - dt.timedelta(days=365)\n",
    "\n",
    "precip_period = session.query(Measurements.date, Measurements.prcp).filter(Measurements.date>=start_date).all()\n",
    "\n",
    "precip_df = pd.DataFrame(precip_period, columns=[\"date\", \"precipitation\"])\n",
    "\n",
    "precip_df.set_index(precip_df[\"date\"], inplace=True)\n",
    "\n",
    "precip_df.head()"
   ]
  },
  {
   "cell_type": "code",
   "execution_count": 100,
   "metadata": {},
   "outputs": [
    {
     "data": {
      "image/png": "[encoded data removed]",
      "text/plain": [
       "<matplotlib.figure.Figure at 0x1a15b0f438>"
      ]
     },
     "metadata": {},
     "output_type": "display_data"
    }
   ],
   "source": [
    "# plot results in matplotlib\n",
    "\n",
    "precip_df.plot(x_compat=True)\n",
    "\n",
    "plt.xticks(rotation=\"45\")\n",
    "\n",
    "plt.show()\n",
    "\n",
    "plt.savefig(\"precip.png\")"
   ]
  },
  {
   "cell_type": "code",
   "execution_count": 51,
   "metadata": {},
   "outputs": [
    {
     "data": {
      "text/html": [
       "<div>\n",
       "<style>\n",
       "    .dataframe thead tr:only-child th {\n",
       "        text-align: right;\n",
       "    }\n",
       "\n",
       "    .dataframe thead th {\n",
       "        text-align: left;\n",
       "    }\n",
       "\n",
       "    .dataframe tbody tr th {\n",
       "        vertical-align: top;\n",
       "    }\n",
       "</style>\n",
       "<table border=\"1\" class=\"dataframe\">\n",
       "  <thead>\n",
       "    <tr style=\"text-align: right;\">\n",
       "      <th></th>\n",
       "      <th>precipitation</th>\n",
       "    </tr>\n",
       "  </thead>\n",
       "  <tbody>\n",
       "    <tr>\n",
       "      <th>count</th>\n",
       "      <td>2230.000000</td>\n",
       "    </tr>\n",
       "    <tr>\n",
       "      <th>mean</th>\n",
       "      <td>0.175720</td>\n",
       "    </tr>\n",
       "    <tr>\n",
       "      <th>std</th>\n",
       "      <td>0.439063</td>\n",
       "    </tr>\n",
       "    <tr>\n",
       "      <th>min</th>\n",
       "      <td>0.000000</td>\n",
       "    </tr>\n",
       "    <tr>\n",
       "      <th>25%</th>\n",
       "      <td>0.000000</td>\n",
       "    </tr>\n",
       "    <tr>\n",
       "      <th>50%</th>\n",
       "      <td>0.030000</td>\n",
       "    </tr>\n",
       "    <tr>\n",
       "      <th>75%</th>\n",
       "      <td>0.160644</td>\n",
       "    </tr>\n",
       "    <tr>\n",
       "      <th>max</th>\n",
       "      <td>6.700000</td>\n",
       "    </tr>\n",
       "  </tbody>\n",
       "</table>\n",
       "</div>"
      ],
      "text/plain": [
       "       precipitation\n",
       "count    2230.000000\n",
       "mean        0.175720\n",
       "std         0.439063\n",
       "min         0.000000\n",
       "25%         0.000000\n",
       "50%         0.030000\n",
       "75%         0.160644\n",
       "max         6.700000"
      ]
     },
     "execution_count": 51,
     "metadata": {},
     "output_type": "execute_result"
    }
   ],
   "source": [
    "# summary statistics for precipitation data\n",
    "precip_df.describe()"
   ]
  },
  {
   "cell_type": "code",
   "execution_count": 56,
   "metadata": {},
   "outputs": [
    {
     "name": "stdout",
     "output_type": "stream",
     "text": [
      "There are 9 total stations.\n"
     ]
    }
   ],
   "source": [
    "# design query for number of stations\n",
    "\n",
    "num_stations = session.query(Stations).count()\n",
    "\n",
    "print(\"There are \" + str(num_stations) + \" total stations.\")"
   ]
  },
  {
   "cell_type": "code",
   "execution_count": 62,
   "metadata": {},
   "outputs": [
    {
     "data": {
      "text/plain": [
       "[('USC00519281', 2772),\n",
       " ('USC00519397', 2724),\n",
       " ('USC00513117', 2709),\n",
       " ('USC00519523', 2669),\n",
       " ('USC00516128', 2612),\n",
       " ('USC00514830', 2202),\n",
       " ('USC00511918', 1979),\n",
       " ('USC00517948', 1372),\n",
       " ('USC00518838', 511)]"
      ]
     },
     "execution_count": 62,
     "metadata": {},
     "output_type": "execute_result"
    }
   ],
   "source": [
    "# design query to find most active stations\n",
    "\n",
    "session.query(Measurements.station, func.count(Measurements.station))\\\n",
    "    .group_by(Measurements.station).order_by(func.count(Measurements.station).desc()).all()\n",
    "    \n",
    "#station USC00519281 had the highest number of observations "
   ]
  },
  {
   "cell_type": "code",
   "execution_count": 70,
   "metadata": {},
   "outputs": [
    {
     "data": {
      "text/plain": [
       "[(77),\n",
       " (77),\n",
       " (80),\n",
       " (80),\n",
       " (75),\n",
       " (73),\n",
       " (78),\n",
       " (77),\n",
       " (78),\n",
       " (80),\n",
       " (80),\n",
       " (78),\n",
       " (78),\n",
       " (78),\n",
       " (73),\n",
       " (74),\n",
       " (80),\n",
       " (79),\n",
       " (77),\n",
       " (80),\n",
       " (76),\n",
       " (79),\n",
       " (75),\n",
       " (79),\n",
       " (78),\n",
       " (79),\n",
       " (78),\n",
       " (78),\n",
       " (76),\n",
       " (74),\n",
       " (77),\n",
       " (78),\n",
       " (79),\n",
       " (79),\n",
       " (77),\n",
       " (80),\n",
       " (78),\n",
       " (78),\n",
       " (78),\n",
       " (77),\n",
       " (79),\n",
       " (79),\n",
       " (79),\n",
       " (79),\n",
       " (75),\n",
       " (76),\n",
       " (73),\n",
       " (72),\n",
       " (71),\n",
       " (77),\n",
       " (79),\n",
       " (78),\n",
       " (79),\n",
       " (77),\n",
       " (79),\n",
       " (77),\n",
       " (78),\n",
       " (78),\n",
       " (78),\n",
       " (78),\n",
       " (77),\n",
       " (74),\n",
       " (75),\n",
       " (76),\n",
       " (73),\n",
       " (76),\n",
       " (74),\n",
       " (77),\n",
       " (76),\n",
       " (76),\n",
       " (74),\n",
       " (75),\n",
       " (75),\n",
       " (75),\n",
       " (75),\n",
       " (71),\n",
       " (63),\n",
       " (70),\n",
       " (68),\n",
       " (67),\n",
       " (77),\n",
       " (74),\n",
       " (77),\n",
       " (76),\n",
       " (76),\n",
       " (75),\n",
       " (76),\n",
       " (75),\n",
       " (73),\n",
       " (75),\n",
       " (73),\n",
       " (75),\n",
       " (74),\n",
       " (75),\n",
       " (74),\n",
       " (75),\n",
       " (73),\n",
       " (75),\n",
       " (73),\n",
       " (73),\n",
       " (74),\n",
       " (70),\n",
       " (72),\n",
       " (70),\n",
       " (67),\n",
       " (67),\n",
       " (69),\n",
       " (70),\n",
       " (68),\n",
       " (69),\n",
       " (69),\n",
       " (66),\n",
       " (65),\n",
       " (68),\n",
       " (62),\n",
       " (75),\n",
       " (70),\n",
       " (69),\n",
       " (76),\n",
       " (76),\n",
       " (74),\n",
       " (73),\n",
       " (71),\n",
       " (74),\n",
       " (74),\n",
       " (72),\n",
       " (71),\n",
       " (72),\n",
       " (74),\n",
       " (69),\n",
       " (67),\n",
       " (72),\n",
       " (70),\n",
       " (64),\n",
       " (63),\n",
       " (63),\n",
       " (62),\n",
       " (70),\n",
       " (70),\n",
       " (62),\n",
       " (62),\n",
       " (63),\n",
       " (65),\n",
       " (69),\n",
       " (77),\n",
       " (70),\n",
       " (74),\n",
       " (69),\n",
       " (72),\n",
       " (71),\n",
       " (69),\n",
       " (71),\n",
       " (71),\n",
       " (72),\n",
       " (72),\n",
       " (69),\n",
       " (70),\n",
       " (66),\n",
       " (65),\n",
       " (69),\n",
       " (68),\n",
       " (68),\n",
       " (68),\n",
       " (59),\n",
       " (60),\n",
       " (70),\n",
       " (73),\n",
       " (75),\n",
       " (64),\n",
       " (59),\n",
       " (59),\n",
       " (62),\n",
       " (68),\n",
       " (70),\n",
       " (73),\n",
       " (79),\n",
       " (75),\n",
       " (65),\n",
       " (70),\n",
       " (74),\n",
       " (70),\n",
       " (70),\n",
       " (71),\n",
       " (71),\n",
       " (71),\n",
       " (69),\n",
       " (61),\n",
       " (67),\n",
       " (65),\n",
       " (72),\n",
       " (71),\n",
       " (73),\n",
       " (72),\n",
       " (77),\n",
       " (73),\n",
       " (67),\n",
       " (62),\n",
       " (64),\n",
       " (67),\n",
       " (66),\n",
       " (81),\n",
       " (69),\n",
       " (66),\n",
       " (67),\n",
       " (69),\n",
       " (66),\n",
       " (68),\n",
       " (65),\n",
       " (74),\n",
       " (69),\n",
       " (72),\n",
       " (73),\n",
       " (72),\n",
       " (71),\n",
       " (76),\n",
       " (77),\n",
       " (76),\n",
       " (74),\n",
       " (68),\n",
       " (73),\n",
       " (71),\n",
       " (74),\n",
       " (75),\n",
       " (70),\n",
       " (67),\n",
       " (71),\n",
       " (67),\n",
       " (74),\n",
       " (77),\n",
       " (78),\n",
       " (67),\n",
       " (70),\n",
       " (69),\n",
       " (69),\n",
       " (74),\n",
       " (78),\n",
       " (71),\n",
       " (67),\n",
       " (68),\n",
       " (67),\n",
       " (76),\n",
       " (69),\n",
       " (72),\n",
       " (76),\n",
       " (68),\n",
       " (72),\n",
       " (74),\n",
       " (70),\n",
       " (67),\n",
       " (72),\n",
       " (60),\n",
       " (65),\n",
       " (75),\n",
       " (70),\n",
       " (75),\n",
       " (70),\n",
       " (79),\n",
       " (75),\n",
       " (70),\n",
       " (67),\n",
       " (74),\n",
       " (70),\n",
       " (75),\n",
       " (76),\n",
       " (77),\n",
       " (74),\n",
       " (74),\n",
       " (74),\n",
       " (69),\n",
       " (68),\n",
       " (76),\n",
       " (74),\n",
       " (71),\n",
       " (71),\n",
       " (74),\n",
       " (74),\n",
       " (74),\n",
       " (74),\n",
       " (80),\n",
       " (74),\n",
       " (72),\n",
       " (75),\n",
       " (80),\n",
       " (76),\n",
       " (76),\n",
       " (77),\n",
       " (75),\n",
       " (75),\n",
       " (75),\n",
       " (75),\n",
       " (72),\n",
       " (74),\n",
       " (74),\n",
       " (74),\n",
       " (76),\n",
       " (74),\n",
       " (75),\n",
       " (73),\n",
       " (79),\n",
       " (75),\n",
       " (72),\n",
       " (72),\n",
       " (74),\n",
       " (72),\n",
       " (72),\n",
       " (77),\n",
       " (71),\n",
       " (73),\n",
       " (76),\n",
       " (77),\n",
       " (76),\n",
       " (76),\n",
       " (79),\n",
       " (81),\n",
       " (76),\n",
       " (78),\n",
       " (77),\n",
       " (74),\n",
       " (75),\n",
       " (78),\n",
       " (78),\n",
       " (69),\n",
       " (72),\n",
       " (74),\n",
       " (74),\n",
       " (76),\n",
       " (80),\n",
       " (80),\n",
       " (76),\n",
       " (76),\n",
       " (76),\n",
       " (77),\n",
       " (77),\n",
       " (77),\n",
       " (82),\n",
       " (75),\n",
       " (77),\n",
       " (75),\n",
       " (76),\n",
       " (81),\n",
       " (82),\n",
       " (81),\n",
       " (76),\n",
       " (77),\n",
       " (82),\n",
       " (83),\n",
       " (77),\n",
       " (77),\n",
       " (77),\n",
       " (76),\n",
       " (76),\n",
       " (79)]"
      ]
     },
     "execution_count": 70,
     "metadata": {},
     "output_type": "execute_result"
    }
   ],
   "source": [
    "#Design a query to retrieve the last 12 months of temperature observation data (tobs).\n",
    "\n",
    "last_year_temp = session.query(Measurements.tobs).\\\n",
    "        filter(Measurements.date>=start_date).\\\n",
    "        filter(Measurements.station == \"USC00519281\").all()\n",
    "    \n",
    "last_year_temp"
   ]
  },
  {
   "cell_type": "code",
   "execution_count": 101,
   "metadata": {},
   "outputs": [
    {
     "data": {
      "text/plain": [
       "<matplotlib.figure.Figure at 0x1a14d19908>"
      ]
     },
     "metadata": {},
     "output_type": "display_data"
    },
    {
     "data": {
      "image/png": "[encoded data removed]",
      "text/plain": [
       "<matplotlib.figure.Figure at 0x1a1583f710>"
      ]
     },
     "metadata": {},
     "output_type": "display_data"
    }
   ],
   "source": [
    "#construct dataframe on temp data\n",
    "\n",
    "\n",
    "temp_df = pd.DataFrame(last_year_temp, columns=[\"tobs\"])\n",
    "\n",
    "temp_df.head()\n",
    "\n",
    "#create histogram and plot data\n",
    "\n",
    "sns.set()\n",
    "\n",
    "temp_df.plot.hist(bins=12)\n",
    "\n",
    "plt.savefig(\"temp.png\")\n",
    "\n",
    "plt.show()"
   ]
  },
  {
   "cell_type": "code",
   "execution_count": 83,
   "metadata": {},
   "outputs": [
    {
     "name": "stdout",
     "output_type": "stream",
     "text": [
      "[(71, 76.9074074074074, 82)]\n"
     ]
    }
   ],
   "source": [
    "#Write a function called calc_temps that will accept a start \n",
    "#date and end date in the format %Y-%m-%d and return the minimum, \n",
    "#average, and maximum temperatures for that range of dates.\n",
    "\n",
    "def calc_temps(start_date, end_date):\n",
    "\n",
    "    return session.query(func.min(Measurements.tobs), func.avg(Measurements.tobs), func.max(Measurements.tobs)).\\\n",
    "            filter(Measurements.date>=start_date).\\\n",
    "            filter(Measurements.date<=end_date).all()\n",
    "                                                    \n",
    "print(calc_temps(vac_start_date, vac_end_date))                                                    "
   ]
  },
  {
   "cell_type": "code",
   "execution_count": 88,
   "metadata": {},
   "outputs": [
    {
     "name": "stdout",
     "output_type": "stream",
     "text": [
      "68 75.6029411764706 82\n"
     ]
    }
   ],
   "source": [
    "#Use the calc_temps function to calculate the min, avg, \n",
    "#and max temperatures for your trip using the matching dates from the previous year \n",
    "#(i.e. use \"2017-01-01\" if your trip start date was \"2018-01-01\")\n",
    "\n",
    "vac_prev_start = dt.date(2015, 7, 2) - dt.timedelta(days=365)\n",
    "vac_prev_end = dt.date(2015, 7, 10) - dt.timedelta(days=365)\n",
    "\n",
    "trip_min, trip_avg, trip_max = calc_temps(vac_prev_start, vac_prev_end)[0]\n",
    "\n",
    "print(trip_min, trip_avg, trip_max)"
   ]
  },
  {
   "cell_type": "code",
   "execution_count": 102,
   "metadata": {},
   "outputs": [
    {
     "data": {
      "image/png": "[encoded data removed]",
      "text/plain": [
       "<matplotlib.figure.Figure at 0x1a14d1efd0>"
      ]
     },
     "metadata": {},
     "output_type": "display_data"
    }
   ],
   "source": [
    "#Plot the min, avg, and max temperature from your previous query as a bar chart.\n",
    "#Use the average temperature as the bar height.\n",
    "#Use the peak-to-peak (tmax-tmin) value as the y error bar (yerr).\n",
    "\n",
    "fig,ax = plt.subplots(figsize=(4,6))\n",
    "xpos = 1\n",
    "yerr = trip_max - trip_min\n",
    "\n",
    "ax.bar(xpos, trip_max, yerr=yerr, alpha = .5 , color=\"coral\", align = \"center\")\n",
    "ax.set(xticks=range(xpos), xticklabels=\"a\", title=\"Trip Avg Temp\", ylabel=\"Temp(F)\")\n",
    "ax.margins(.2, .2)\n",
    "\n",
    "plt.savefig(\"trip_temp.png\")\n",
    "\n",
    "plt.show()"
   ]
  },
  {
   "cell_type": "code",
   "execution_count": null,
   "metadata": {
    "collapsed": true
   },
   "outputs": [],
   "source": []
  }
 ],
 "metadata": {
  "kernelspec": {
   "display_name": "Python 3",
   "language": "python",
   "name": "python3"
  },
  "language_info": {
   "codemirror_mode": {
    "name": "ipython",
    "version": 3
   },
   "file_extension": ".py",
   "mimetype": "text/x-python",
   "name": "python",
   "nbconvert_exporter": "python",
   "pygments_lexer": "ipython3",
   "version": "3.6.3"
  }
 },
 "nbformat": 4,
 "nbformat_minor": 2
}
